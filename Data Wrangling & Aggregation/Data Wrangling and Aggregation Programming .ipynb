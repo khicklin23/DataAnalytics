{
 "cells": [
  {
   "cell_type": "markdown",
   "id": "b2c52807",
   "metadata": {},
   "source": [
    "# Group 1:\n",
    "# Gavin Stone, Isaac Adams, Kaden Hicklin, Owen Miller, Samuel Shevlin, Sullivan Gleason\n"
   ]
  },
  {
   "cell_type": "markdown",
   "id": "c8b362ef",
   "metadata": {},
   "source": [
    "Sacramentorealestatetransactions.csv questions: \n",
    "1.  With Hierarchical Indexing, rearrange the data to create a first dataframe which will have\n",
    "    first level of index of city, second level of index of zip, please also rename index and\n",
    "    column to make them more understandable, such as change zip to zipcode. Display the\n",
    "    first eight rows of data. Do some plotting to reflect this new dataframe.\n",
    "2.  Try stack and unstack with the above created dataframe. Display the first eight rows of\n",
    "    data.\n",
    "3.  With Hierarchical Indexing, rearrange the data to create a second dataframe which will\n",
    "    have first level of index of city, second level of index of zip, columns of bed, bath and\n",
    "    sale_date. Please also rename index and column to make them more understandable,\n",
    "    such as change zip to zipcode. Display the first eight rows of data.\n",
    "4.  Reshape the above two newly created dataframes and merge them."
   ]
  },
  {
   "cell_type": "code",
   "execution_count": null,
   "id": "83c1c0b6",
   "metadata": {},
   "outputs": [],
   "source": []
  },
  {
   "cell_type": "markdown",
   "id": "37b8c011",
   "metadata": {},
   "source": [
    "credit-data-non-null.csv questions: \n",
    "1.  Write a custom function called cap_value(x, cap) that will set x to the cap if x > cap.\n",
    "    Then apply it to debt_ratio with a cap of 5.\n",
    "2.  Use groupby to calculate the percent of customers that went bad for each age\n",
    "3.  Add a new column age_group for the dataframe. Divide the age into groups of every 10\n",
    "    years in ascending order, then rearrange the data to match the age_group categorization.\n",
    "    Display the first eight rows of data. Do some plotting to reflect it. Use age_group for\n",
    "    data aggregation on revolving_utilization_of_unsecured_lines and monthly_income.\n",
    "    Display the result.\n",
    "4.  Regroup data using number_real_estate_loans_or_lines and serious_dlqin2yrs, display\n",
    "    the first eight rows of data and do some plotting to reflect this it. Then do count, mean,\n",
    "    max, min on revolving_utilization_of_unsecured_lines and monthly_income. Display the\n",
    "    result. Then select the top five monthly_income values by group and display it"
   ]
  },
  {
   "cell_type": "code",
   "execution_count": null,
   "id": "de4f45c4",
   "metadata": {},
   "outputs": [],
   "source": []
  }
 ],
 "metadata": {
  "kernelspec": {
   "display_name": "Python 3 (ipykernel)",
   "language": "python",
   "name": "python3"
  },
  "language_info": {
   "codemirror_mode": {
    "name": "ipython",
    "version": 3
   },
   "file_extension": ".py",
   "mimetype": "text/x-python",
   "name": "python",
   "nbconvert_exporter": "python",
   "pygments_lexer": "ipython3",
   "version": "3.11.5"
  }
 },
 "nbformat": 4,
 "nbformat_minor": 5
}
