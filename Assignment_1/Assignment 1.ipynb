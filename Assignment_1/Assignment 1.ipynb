{
 "cells": [
  {
   "cell_type": "markdown",
   "id": "b0575bd9",
   "metadata": {},
   "source": [
    "# CS433 Assignment 1\n",
    "## Group 1:\n",
    "### Gavin Stone, Isaac Adams, Kaden Hicklin, Owen Miller, Samuel Shevlin, Sullivan Gleason"
   ]
  },
  {
   "cell_type": "markdown",
   "id": "c10b2e56",
   "metadata": {},
   "source": [
    "# 1\n",
    "### Write a Python program to count the number of strings where the string length is 2 or more and\n",
    "### the string is a palindrome from the list of strings.\n",
    "### Sample: ['abdefc', 'xygyz', 'abeba', '123321']\n",
    "### output: 2"
   ]
  },
  {
   "cell_type": "code",
   "execution_count": 7,
   "id": "aaab1e74",
   "metadata": {},
   "outputs": [
    {
     "name": "stdout",
     "output_type": "stream",
     "text": [
      "2\n"
     ]
    }
   ],
   "source": [
    "def isPalindrome(s):\n",
    "    total = 0\n",
    "    i = 0\n",
    "    while i < len(s):\n",
    "        if len(s[i]) >= 2:                  # check for length of 2 or greater\n",
    "            rev = ''.join(reversed(s[i]))   # reverse the string\n",
    "            if rev == s[i]:                 # compare reversed string with original\n",
    "                total += 1\n",
    "        i += 1\n",
    "    print(total)\n",
    "\n",
    "if __name__ == '__main__':\n",
    "    s = ['abdefc', 'xygyz', 'abeba', '123321']\n",
    "    isPalindrome(s)"
   ]
  },
  {
   "cell_type": "markdown",
   "id": "50561501",
   "metadata": {},
   "source": [
    "# 2\n",
    "### Write a Python function that takes two lists and returns the number of common members"
   ]
  },
  {
   "cell_type": "code",
   "execution_count": 1,
   "id": "770712a6",
   "metadata": {},
   "outputs": [
    {
     "name": "stdout",
     "output_type": "stream",
     "text": [
      "4\n"
     ]
    }
   ],
   "source": [
    "a = [1, 2, 3, 4, 5, 'a']\n",
    "b = [4, 5, 6, 7, 8, 3, 'a']\n",
    "match = len((set(a).intersection(b)))       # finds the set of common members between a and b\n",
    "                                            # and then assigns the length of the set to match\n",
    "print(match)"
   ]
  },
  {
   "cell_type": "markdown",
   "id": "16d60125",
   "metadata": {},
   "source": [
    "# 3\n",
    "### Write a Python program to split a list into a list of dictionaries, with odd item as key and even item as value\n",
    "#### Sample: ['a', 'b', 'c', 'd', 'e', 'f', 'g', 'h', 'i', 'j', 'k', 'l', 'm', 'n']\n",
    "#### Output: [{‘a’:’b’},{‘c’:’d’},{‘e’:’f’},{‘g’:’h’},{‘i’:’j’},{‘k’:’l’},{‘m’:’n’}]"
   ]
  },
  {
   "cell_type": "code",
   "execution_count": 1,
   "id": "64c84d79",
   "metadata": {},
   "outputs": [
    {
     "name": "stdout",
     "output_type": "stream",
     "text": [
      "[{1: 'one'}, {2: 'two'}, {3: 'three'}, {'Hello': 'there'}, {'General': 'Kenobi'}, {'key': 'value'}, {'taco': 'burrito'}]\n"
     ]
    }
   ],
   "source": [
    "def split(input_list):\n",
    "    #start with an empty list\n",
    "    output_list = []\n",
    "    \n",
    "    for i in range(0, len(input_list), 2):\n",
    "        #using odd items as keys\n",
    "        key = input_list[i]\n",
    "        \n",
    "        #using even items as values\n",
    "        value = input_list[i + 1]\n",
    "        #create a list of dictionaries \n",
    "        output_list.append(dict({key: value}))\n",
    "    \n",
    "    return output_list\n",
    "\n",
    "# Testing Case:\n",
    "print(split([1, 'one', 2, 'two', 3, 'three', \"Hello\", \"there\", \"General\", \"Kenobi\", \"key\", \"value\", \"taco\", \"burrito\"]))"
   ]
  },
  {
   "cell_type": "markdown",
   "id": "3568a6bc",
   "metadata": {},
   "source": [
    "# 4\n",
    "### Write a Python program to find a word which has the most number of letters from a list of\n",
    "### words."
   ]
  },
  {
   "cell_type": "code",
   "execution_count": 3,
   "id": "26966ed9",
   "metadata": {},
   "outputs": [
    {
     "name": "stdout",
     "output_type": "stream",
     "text": [
      "Longest string: programming\n",
      "Length of string:  11\n"
     ]
    }
   ],
   "source": [
    "a = ['data', 'analysis', 'programming', 'python', 'jupyter']\n",
    "\n",
    "# use list comprehension to create a list that contains the lengths of the strings in a.\n",
    "newlist = [len(x) for x in a]\n",
    "longIndex = newlist.index(max(newlist))  # index of longest string\n",
    "longString = a[longIndex]                # get longest string\n",
    "print(\"Longest string: \" + longString)\n",
    "print(\"Length of string: \", len(a[longIndex]))"
   ]
  },
  {
   "cell_type": "markdown",
   "id": "220c4d78",
   "metadata": {},
   "source": [
    "# 5 \n",
    "### Write a Python program to print all common values in a dictionary"
   ]
  },
  {
   "cell_type": "code",
   "execution_count": 3,
   "id": "b1c3452c",
   "metadata": {},
   "outputs": [
    {
     "name": "stdout",
     "output_type": "stream",
     "text": [
      "{2, 3, 4, 6}\n"
     ]
    }
   ],
   "source": [
    "def returnCommonValues(dict):\n",
    "    values = list(dict.values())\n",
    "\n",
    "    set_values = list(set(values))\n",
    "\n",
    "    for element in set_values:\n",
    "        if element in values:\n",
    "            values.pop(values.index(element))\n",
    "    print(set(values))\n",
    "\n",
    "\n",
    "\n",
    "returnCommonValues({1:1,2:3,3:4,4:4,5:2,6:7,7:6,8:6,9:2,10:3,11:3})\n",
    "    "
   ]
  },
  {
   "cell_type": "markdown",
   "id": "fe86615e",
   "metadata": {},
   "source": [
    "# 6 \n",
    "### Write a Python program to combine two dictionaries based on their keys, if two keys are the\n",
    "### same, sum their values together"
   ]
  },
  {
   "cell_type": "code",
   "execution_count": 1,
   "id": "87adcc31",
   "metadata": {},
   "outputs": [
    {
     "name": "stdout",
     "output_type": "stream",
     "text": [
      "{'a': 10, 'd': 25, 'b': 25, 'e': 40, 'c': 45}\n"
     ]
    }
   ],
   "source": [
    "def combine_dictionaries(dict1, dict2):\n",
    "    combined_dict = {}\n",
    "\n",
    "    # Combine dictionaries based on keys using union \n",
    "    for key in set(dict1.keys()).union(dict2.keys()):\n",
    "        combined_dict[key] = dict1.get(key, 0) + dict2.get(key, 0)\n",
    "\n",
    "    return combined_dict\n",
    "\n",
    "# Dictionaries\n",
    "dict1 = {'a': 10, 'b': 20, 'c': 30, 'e': 13}\n",
    "dict2 = {'b': 5, 'c': 15, 'd': 25, 'e': 27}\n",
    "\n",
    "# Combine dictionaries\n",
    "print(combine_dictionaries(dict1, dict2))"
   ]
  },
  {
   "cell_type": "markdown",
   "id": "1bc848c9",
   "metadata": {},
   "source": [
    "# 7\n",
    "### Write a Python program to remove tuple(s) which has certain given value from a list of tuples"
   ]
  },
  {
   "cell_type": "code",
   "execution_count": 4,
   "id": "f69fe7f2",
   "metadata": {},
   "outputs": [
    {
     "name": "stdout",
     "output_type": "stream",
     "text": [
      "Given Value: Kind\n",
      "Original List of Tuples:\n",
      "[('This', 'List', 'Is', 'Evil'), ('This', 'Thing', 'Has', 'Given', 'Me', 'Trouble'), ('This', 'List', 'Is', 'Kind')]\n",
      "\n",
      "New List of Tuples:\n",
      "[('This', 'List', 'Is', 'Evil'), ('This', 'Thing', 'Has', 'Given', 'Me', 'Trouble')]\n",
      "\n",
      "Given Value: Evil\n",
      "Original List of Tuples:\n",
      "[('A', 'Kind', 'Man'), ('An', 'Evil', 'Squirrel'), ('Dogs', 'Are', 'Kind')]\n",
      "\n",
      "New List of Tuples:\n",
      "[('A', 'Kind', 'Man'), ('Dogs', 'Are', 'Kind')]\n",
      "\n",
      "Given Value: Evil\n",
      "Original List of Tuples:\n",
      "[('This', 'List', 'Is', 'Evil'), ('This', 'Thing', 'Has', 'Given', 'Me', 'Trouble'), ('This', 'List', 'Is', 'Kind')]\n",
      "\n",
      "New List of Tuples:\n",
      "[('This', 'Thing', 'Has', 'Given', 'Me', 'Trouble'), ('This', 'List', 'Is', 'Kind')]\n",
      "\n",
      "Given Value: Kind\n",
      "Original List of Tuples:\n",
      "[('A', 'Kind', 'Man'), ('An', 'Evil', 'Squirrel'), ('Dogs', 'Are', 'Kind')]\n",
      "\n",
      "New List of Tuples:\n",
      "[('An', 'Evil', 'Squirrel')]\n",
      "\n"
     ]
    }
   ],
   "source": [
    "# For use of list size 3\n",
    "# For bigger lists, declare more \"delete\" variables and add more if checks\n",
    "# Change chosenGivenValue variables to change the desired removal value\n",
    "chosenGivenValue = \"Kind\"\n",
    "chosenGivenValue2 = \"Evil\"\n",
    "tupList = [(\"This\", \"List\", \"Is\", \"Evil\"),(\"This\", \"Thing\", \"Has\", \"Given\", \"Me\", \"Trouble\"),(\"This\", \"List\", \"Is\", \"Kind\")]\n",
    "tupList2 = [(\"A\", \"Kind\", \"Man\"), (\"An\", \"Evil\", \"Squirrel\"), (\"Dogs\", \"Are\", \"Kind\")]\n",
    "tupList3 = [(\"This\", \"List\", \"Is\", \"Evil\"),(\"This\", \"Thing\", \"Has\", \"Given\", \"Me\", \"Trouble\"),(\"This\", \"List\", \"Is\", \"Kind\")]\n",
    "tupList4 = [(\"A\", \"Kind\", \"Man\"), (\"An\", \"Evil\", \"Squirrel\"), (\"Dogs\", \"Are\", \"Kind\")]\n",
    "def listSearch(tupList, chosenGivenValue):\n",
    "    print(f\"Given Value: {chosenGivenValue}\")\n",
    "    print(\"Original List of Tuples:\")\n",
    "    print(tupList)\n",
    "    print(\"\\nNew List of Tuples:\")\n",
    "    delete1 = 0 \n",
    "    delete2 = 0 \n",
    "    delete3 = 0\n",
    "    # Analyze tuples in list for value\n",
    "    if (tupList[0].count(chosenGivenValue) > 0):\n",
    "        delete1 = 1\n",
    "    if (tupList[1].count(chosenGivenValue) > 0):\n",
    "        delete2 = 1\n",
    "    if (tupList[2].count(chosenGivenValue) > 0):\n",
    "        delete3 = 1\n",
    "\n",
    "    # Delete chosen entries in descending order to avoid indexing errors\n",
    "    if (delete3 == 1):\n",
    "        tupList.remove(tupList[2])\n",
    "    if (delete2 == 1):\n",
    "        tupList.remove(tupList[1])\n",
    "    if (delete1 == 1):\n",
    "        tupList.remove(tupList[0])\n",
    "\n",
    "    print(tupList)\n",
    "listSearch(tupList, chosenGivenValue)\n",
    "print(\"\")\n",
    "listSearch(tupList2, chosenGivenValue2)\n",
    "print(\"\")\n",
    "listSearch(tupList3, chosenGivenValue2)\n",
    "print(\"\")\n",
    "listSearch(tupList4, chosenGivenValue)\n",
    "print(\"\")"
   ]
  },
  {
   "cell_type": "markdown",
   "id": "19dcad08",
   "metadata": {},
   "source": [
    "# 8\n",
    "### Write a Python program to sort a list of tuples by the first element in the tuple"
   ]
  },
  {
   "cell_type": "code",
   "execution_count": 6,
   "id": "fb6125e8",
   "metadata": {},
   "outputs": [
    {
     "name": "stdout",
     "output_type": "stream",
     "text": [
      "Tuples 1, 2, & 3\n",
      "Unsorted:\n",
      "[3, 5, 7]\n",
      "[49, 14, 56]\n",
      "[10, 2, 3]\n",
      "\n",
      "Sorted:\n",
      "[3, 5, 7]\n",
      "[10, 2, 3]\n",
      "[49, 14, 56]\n",
      "\n",
      "Tuples 4, 5, & 6\n",
      "Unsorted:\n",
      "[5, 5, 6]\n",
      "[39, 64, 6]\n",
      "[1, 6, 5]\n",
      "\n",
      "Sorted:\n",
      "[1, 6, 5]\n",
      "[5, 5, 6]\n",
      "[39, 64, 6]\n",
      "\n",
      "Tuples 7, 8, & 9\n",
      "Unsorted:\n",
      "[6534, 211, 567]\n",
      "[493, 4, 560]\n",
      "[100, 2, 3]\n",
      "\n",
      "Sorted:\n",
      "[100, 2, 3]\n",
      "[493, 4, 560]\n",
      "[6534, 211, 567]\n",
      "\n",
      "Tuples 4, 7, & 1\n",
      "Unsorted:\n",
      "[5, 5, 6]\n",
      "[6534, 211, 567]\n",
      "[3, 5, 7]\n",
      "\n",
      "Sorted:\n",
      "[3, 5, 7]\n",
      "[5, 5, 6]\n",
      "[6534, 211, 567]\n",
      "\n",
      "Tuples 2, 5, & 8\n",
      "Unsorted:\n",
      "[49, 14, 56]\n",
      "[39, 64, 6]\n",
      "[493, 4, 560]\n",
      "\n",
      "Sorted:\n",
      "[39, 64, 6]\n",
      "[49, 14, 56]\n",
      "[493, 4, 560]\n",
      "\n",
      "Tuples 1, 9, & 3\n",
      "Unsorted:\n",
      "[3, 5, 7]\n",
      "[100, 2, 3]\n",
      "[10, 2, 3]\n",
      "\n",
      "Sorted:\n",
      "[3, 5, 7]\n",
      "[10, 2, 3]\n",
      "[100, 2, 3]\n",
      "\n",
      "Tuples 1, 1, & 1\n",
      "Unsorted:\n",
      "[3, 5, 7]\n",
      "[3, 5, 7]\n",
      "[3, 5, 7]\n",
      "\n",
      "Sorted:\n",
      "[3, 5, 7]\n",
      "[3, 5, 7]\n",
      "[3, 5, 7]\n",
      "\n"
     ]
    }
   ],
   "source": [
    "# Since not specified, I created an example using 3 tuples of size 3. \n",
    "# Add or remove prints and elifs for different size/amount of tuples\n",
    "# \n",
    "\n",
    "t1 = [3, 5, 7]\n",
    "t2 = [49, 14, 56]\n",
    "t3 = [10, 2, 3]\n",
    "t4 = [5, 5, 6]\n",
    "t5 = [39, 64, 6]\n",
    "t6 = [1, 6, 5]\n",
    "t7 = [6534, 211, 567]\n",
    "t8 = [493, 4, 560]\n",
    "t9 = [100, 2, 3]\n",
    "\n",
    "# For 3 tuples of size 3\n",
    "def sortUnsort(tuple1, tuple2, tuple3):\n",
    "    print(\"Unsorted:\")\n",
    "    print(tuple1)\n",
    "    print(tuple2)\n",
    "    print(tuple3)\n",
    "    print(\"\")\n",
    "    print(\"Sorted:\")\n",
    "    if ((tuple1[0] < tuple2[0]) & (tuple1[0] < tuple3[0])): # If tuple1 is smallest\n",
    "        print(tuple1)\n",
    "        if (tuple2[0] < tuple3[0]):\n",
    "            print(tuple2)\n",
    "            print(tuple3)\n",
    "        elif (tuple3[0] < tuple2[0]):\n",
    "            print(tuple3)\n",
    "            print(tuple2)\n",
    "        elif (tuple3[0] == tuple2[0]):\n",
    "            if (tuple2[1] < tuple3[1]):\n",
    "                print(tuple2)\n",
    "                print(tuple3)\n",
    "            elif (tuple3[1] < tuple2[1]):\n",
    "                print(tuple3)\n",
    "                print(tuple2)\n",
    "            elif (tuple3[1] == tuple2[1]):\n",
    "                if (tuple2[2] < tuple3[2]):\n",
    "                    print(tuple2)\n",
    "                    print(tuple3)\n",
    "                elif (tuple3[2] < tuple2[2]):\n",
    "                    print(tuple3)\n",
    "                    print(tuple2)\n",
    "                elif (tuple3[2] == tuple2[2]):\n",
    "                    print(tuple2)\n",
    "                    print(tuple3)                \n",
    "    elif ((tuple2[0] < tuple1[0]) & (tuple2[0] < tuple3[0])): # If tuple2 is smallest\n",
    "        print(tuple2)\n",
    "        if (tuple1[0] < tuple3[0]):\n",
    "            print(tuple1)\n",
    "            print(tuple3)\n",
    "        elif (tuple3[0] < tuple1[0]):\n",
    "            print(tuple3)\n",
    "            print(tuple1)\n",
    "        elif (tuple3[0] == tuple1[0]):\n",
    "            if (tuple1[1] < tuple3[1]):\n",
    "                print(tuple1)\n",
    "                print(tuple3)\n",
    "            elif (tuple3[1] < tuple1[1]):\n",
    "                print(tuple3)\n",
    "                print(tuple1)\n",
    "            elif (tuple3[1] == tuple1[1]):\n",
    "                if (tuple1[2] < tuple3[2]):\n",
    "                    print(tuple1)\n",
    "                    print(tuple3)\n",
    "                elif (tuple3[2] < tuple1[2]):\n",
    "                    print(tuple3)\n",
    "                    print(tuple1)\n",
    "                elif (tuple3[2] == tuple1[2]):\n",
    "                    print(tuple1)\n",
    "                    print(tuple3)\n",
    "    elif ((tuple3[0] < tuple2[0]) & (tuple3[0] < tuple1[0])): # If tuple3 is smallest\n",
    "        print(tuple3)\n",
    "        if (tuple2[0] < tuple1[0]):\n",
    "            print(tuple2)\n",
    "            print(tuple1)\n",
    "        elif (tuple1[0] < tuple2[0]):\n",
    "            print(tuple1)\n",
    "            print(tuple2)\n",
    "        elif (tuple1[0] == tuple2[0]):\n",
    "            if (tuple2[1] < tuple1[1]):\n",
    "                print(tuple2)\n",
    "                print(tuple1)\n",
    "            elif (tuple1[1] < tuple2[1]):\n",
    "                print(tuple1)\n",
    "                print(tuple2)\n",
    "            elif (tuple1[1] == tuple2[1]):\n",
    "                if (tuple2[2] < tuple1[2]):\n",
    "                    print(tuple2)\n",
    "                    print(tuple1)\n",
    "                elif (tuple1[2] < tuple2[2]):\n",
    "                    print(tuple1)\n",
    "                    print(tuple2)\n",
    "                elif (tuple1[2] == tuple2[2]):\n",
    "                    print(tuple2)\n",
    "                    print(tuple1)\n",
    "    else: # If all three start with the same element\n",
    "        print(tuple1)\n",
    "        print(tuple2)\n",
    "        print(tuple3)\n",
    "print(\"Tuples 1, 2, & 3\")\n",
    "sortUnsort(t1, t2, t3)\n",
    "print(\"\")\n",
    "print(\"Tuples 4, 5, & 6\")\n",
    "sortUnsort(t4, t5, t6)\n",
    "print(\"\")\n",
    "print(\"Tuples 7, 8, & 9\")\n",
    "sortUnsort(t7, t8, t9)\n",
    "print(\"\")\n",
    "print(\"Tuples 4, 7, & 1\")\n",
    "sortUnsort(t4, t7, t1)\n",
    "print(\"\")\n",
    "print(\"Tuples 2, 5, & 8\")\n",
    "sortUnsort(t2, t5, t8)\n",
    "print(\"\")\n",
    "print(\"Tuples 1, 9, & 3\")\n",
    "sortUnsort(t1, t9, t3)\n",
    "print(\"\")\n",
    "print(\"Tuples 1, 1, & 1\")\n",
    "sortUnsort(t1, t1, t1)\n",
    "print(\"\")"
   ]
  }
 ],
 "metadata": {
  "kernelspec": {
   "display_name": "Python 3 (ipykernel)",
   "language": "python",
   "name": "python3"
  },
  "language_info": {
   "codemirror_mode": {
    "name": "ipython",
    "version": 3
   },
   "file_extension": ".py",
   "mimetype": "text/x-python",
   "name": "python",
   "nbconvert_exporter": "python",
   "pygments_lexer": "ipython3",
   "version": "3.11.5"
  }
 },
 "nbformat": 4,
 "nbformat_minor": 5
}
