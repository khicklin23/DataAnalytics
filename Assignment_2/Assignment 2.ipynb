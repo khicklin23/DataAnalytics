{
 "cells": [
  {
   "cell_type": "markdown",
   "id": "b2d58450",
   "metadata": {},
   "source": [
    "1. Using our class example unit2_07 Employee class, create five different employees who earn different salary and are different age. Then use List comprehension to find the top three salary employees and display all of their information.\n",
    "\n",
    "2. Create a Company class that holds instances of employees. Then assign five employee instances to an instance of the Company class. Next, add a work() method to both the Company and Employee classes so that when you call the method on the Company class, each Employee instance assigned to the Employee class will work(). Test the Company’s work(). \n",
    "\n",
    "3. Create ten different employees from a file: read employee data from a file(.txt or .json), then use generator to create a list of ten employees, sort the employee list by their name, use generator to raise every employee’s salary by 5%, then use generator to create a dictionary of the employees where the keys of the dictionary items are from range(10) and print them out. Furthermore, use itertools’s groupby() method to group employees by age group(younger than 20, 21-30, 31-50, 51-65, older than 65) \n",
    "\n",
    "4. Create a EmployeeD class which is a subclass of UserDict and overrides __getitem__ and __setitem__ methods. Then read from your provided file to create a sequence of EmployeeD instances using generator function and print the total salaries. \n",
    "\n",
    "5. Using what we have learned in Unit2 to analyze provided real estate transaction .csv file, you can use SP500 example as reference. Please find the highest and lowest transactions for each category of real estate: condo, residential and multi-family. Please note you are not allowed to use Pandas for this problem."
   ]
  },
  {
   "cell_type": "markdown",
   "id": "8de343f8",
   "metadata": {},
   "source": [
    "# Question 1"
   ]
  },
  {
   "cell_type": "code",
   "execution_count": 20,
   "id": "d76c7501",
   "metadata": {},
   "outputs": [
    {
     "name": "stdout",
     "output_type": "stream",
     "text": [
      "Name : John, Salary: 5000, Age: 50\n",
      "Name : Paul, Salary: 4000, Age: 52\n",
      "Name : George, Salary: 3000, Age: 53\n"
     ]
    }
   ],
   "source": [
    "class Employee: #same as Employee(object)\n",
    "   'Common base class for all employees'\n",
    "   empCount = 0 #class attribute\n",
    "\n",
    "   #name, salary and _age are instance attributes\n",
    "   def __init__(self, name, salary, age): #initializer must have at least argument beside self\n",
    "      self.name = name\n",
    "      self.salary = salary\n",
    "      self.__age = age\n",
    "      Employee.empCount += 1\n",
    "   \n",
    "   def displayCount(self):\n",
    "       print(\"Total Employee: {0}\".format(Employee.empCount))\n",
    "\n",
    "   def displayEmployee(self):\n",
    "       print(\"Name : {0}, Salary: {1}, Age: {2}\".format(self.name,self.salary, self.__age))\n",
    "    \n",
    "    def work(self):\n",
    "        print(f\"{self.name} is working.\")\n",
    "\n",
    "# create the employees\n",
    "employees = [\n",
    "Employee(\"John\", 5000, 50),\n",
    "Employee(\"Paul\", 4000, 52),\n",
    "Employee(\"George\", 3000, 53),\n",
    "Employee(\"Ringo\", 2000, 54),\n",
    "Employee(\"Billy\", 1000, 55)\n",
    "]\n",
    "# chooses list employees, assigns salary to argument x, sorts in descending order, and slices the last three values \n",
    "maxSalary = sorted(employees, key=lambda x : x.salary, reverse=True)[:3] \n",
    "\n",
    "# prints the information of the employees with the three greatest salaries\n",
    "for employee in maxSalary: \n",
    "    employee.displayEmployee()"
   ]
  },
  {
   "cell_type": "markdown",
   "id": "c772e971",
   "metadata": {},
   "source": [
    "# Question 2"
   ]
  },
  {
   "cell_type": "code",
   "execution_count": 1,
   "id": "fdaa992e",
   "metadata": {},
   "outputs": [
    {
     "name": "stdout",
     "output_type": "stream",
     "text": [
      "Company Uno is working.\n",
      "----------------------------\n",
      "Stan is working.\n",
      "Markus is working.\n",
      "Estivessem is working.\n",
      "Tiler is working.\n",
      "Frayink is working.\n",
      "----------------------------\n"
     ]
    }
   ],
   "source": [
    "class Employee: #same as Employee(object)\n",
    "   #Common base class for all employees\n",
    "    empCount = 0 #class attribute\n",
    "\n",
    "   #name, salary and _age are instance attributes\n",
    "    def __init__(self, name, salary, age): #initializer must have at least argument beside self\n",
    "          self.name = name\n",
    "          self.salary = salary\n",
    "          self.__age = age\n",
    "          Employee.empCount += 1\n",
    "\n",
    "    def displayCount(self):\n",
    "            print(\"Total Employee: {0}\".format(Employee.empCount))\n",
    "\n",
    "    def displayEmployee(self):\n",
    "            print(\"Name : {0}, Salary: {1}, Age: {2}\".format(self.name,self.salary, self.__age))\n",
    "\n",
    "    def work(self):\n",
    "            print(f\"{self.name} is working.\")\n",
    "\n",
    "class Company:\n",
    "    def __init__(self, name, emp1, emp2, emp3, emp4, emp5):\n",
    "        self.employ1 = emp1\n",
    "        self.employ2 = emp2\n",
    "        self.employ3 = emp3\n",
    "        self.employ4 = emp4\n",
    "        self.employ5 = emp5\n",
    "        self.CompanyName = name\n",
    "\n",
    "    def work(self):\n",
    "        print(f\"{self.CompanyName} is working.\\n----------------------------\")\n",
    "        emp1.work()\n",
    "        emp2.work()\n",
    "        emp3.work()\n",
    "        emp4.work()\n",
    "        emp5.work()\n",
    "        print(\"----------------------------\")\n",
    "\n",
    "emp1 = Employee(\"Stan\",10000,21)\n",
    "emp2 = Employee(\"Markus\",23004,43)\n",
    "emp3 = Employee(\"Estivessem\",100,3)\n",
    "emp4 = Employee(\"Tiler\",1000403,17)\n",
    "emp5 = Employee(\"Frayink\",2000,31)\n",
    "company1 = Company(\"Company Uno\",emp1, emp2, emp3, emp4, emp5)\n",
    "company1.work()\n"
   ]
  },
  {
   "cell_type": "markdown",
   "id": "94f2351e",
   "metadata": {},
   "source": [
    "# Question 3"
   ]
  },
  {
   "cell_type": "code",
   "execution_count": 2,
   "id": "0d116f12",
   "metadata": {},
   "outputs": [
    {
     "name": "stdout",
     "output_type": "stream",
     "text": [
      "Employee Dictionary:\n",
      "{0: <__main__.Employee object at 0x000001C3DE6B1850>, 1: <__main__.Employee object at 0x000001C3DE740410>, 2: <__main__.Employee object at 0x000001C3DE725390>, 3: <__main__.Employee object at 0x000001C3DE740650>, 4: <__main__.Employee object at 0x000001C3DE741190>, 5: <__main__.Employee object at 0x000001C3DE69DE90>, 6: <__main__.Employee object at 0x000001C3DE741110>, 7: <__main__.Employee object at 0x000001C3DE740FD0>, 8: <__main__.Employee object at 0x000001C3DE740610>, 9: <__main__.Employee object at 0x000001C3DE6C2E10>}\n",
      "Age Group 20-29:\n",
      "  Hicklin, Age: 22, Salary: 57750.0\n",
      "  Adans, Age: 22, Salary: 50400.0\n",
      "  Shevlin, Age: 22, Salary: 53025.0\n",
      "  Gavin, Age: 25, Salary: 52500.0\n",
      "  Red, Age: 28, Salary: 54600.0\n",
      "Age Group 30-39:\n",
      "  Isaac, Age: 34, Salary: 63000.0\n",
      "  Kaden, Age: 35, Salary: 73500.0\n",
      "  Sullivan, Age: 35, Salary: 126000.0\n",
      "  Samuel, Age: 37, Salary: 72345.0\n",
      "Age Group 40-49:\n",
      "  Ethan, Age: 42, Salary: 68250.0\n"
     ]
    }
   ],
   "source": [
    "import json\n",
    "from itertools import groupby\n",
    "\n",
    "class Employee:\n",
    "    empCount = 0\n",
    "\n",
    "    def __init__(self, name, salary, age):\n",
    "        self.name = name\n",
    "        self.salary = salary\n",
    "        self.age = age\n",
    "        Employee.empCount += 1\n",
    "\n",
    "    def displayEmployee(self):\n",
    "        print(f\"Name: {self.name}, Salary: {self.salary}, Age: {self.age}\")\n",
    "\n",
    "    def work(self):\n",
    "        print(f\"{self.name} is working.\")\n",
    "\n",
    "def read_employee_data(file_path):\n",
    "    with open(file_path, 'r') as file:\n",
    "        data = json.load(file)\n",
    "        for emp_data in data:\n",
    "            yield Employee(emp_data['name'], emp_data['salary'], emp_data['age'])\n",
    "\n",
    "def raise_salary(employee_list):\n",
    "    for employee in employee_list:\n",
    "        employee.salary *= 1.05\n",
    "        yield employee\n",
    "\n",
    "def create_employee_dict(employee_list):\n",
    "    for i, employee in enumerate(employee_list[:10]):\n",
    "        yield i, employee\n",
    "\n",
    "def group_by_age(employee_list):\n",
    "    sorted_employees = sorted(employee_list, key=lambda x: x.age)\n",
    "    \n",
    "    for age, group in groupby(sorted_employees, key=lambda x: x.age // 10 * 10):\n",
    "        print(f\"Age Group {age}-{age + 9}:\")\n",
    "        for emp in group:\n",
    "            print(f\"  {emp.name}, Age: {emp.age}, Salary: {emp.salary}\")\n",
    "\n",
    "#Run\n",
    "file_path = \"employee_data.json\" \n",
    "employees = list(read_employee_data(file_path))\n",
    "\n",
    "#Raise salary\n",
    "raised_salary_employees = list(raise_salary(employees))\n",
    "\n",
    "#Create the dictionary\n",
    "employee_dict = dict(create_employee_dict(raised_salary_employees))\n",
    "print(\"Employee Dictionary:\")\n",
    "print(employee_dict)\n",
    "\n",
    "#Group by age\n",
    "group_by_age(raised_salary_employees)\n"
   ]
  },
  {
   "cell_type": "markdown",
   "id": "d0450ab7",
   "metadata": {},
   "source": [
    "# Question 4"
   ]
  },
  {
   "cell_type": "code",
   "execution_count": null,
   "id": "d05fa591",
   "metadata": {},
   "outputs": [],
   "source": [
    "from collections import UserDict\n",
    "import json\n",
    "class EmployeeD(UserDict):\n",
    "\n",
    "    def __getitem__(self, key):\n",
    "        value = super().__getitem__(key)\n",
    "        return value['salary']\n",
    "    \n",
    "    def __setitem__(self, key, value):\n",
    "        if 'name' in value and 'salary' in value and 'age' in value:\n",
    "            super().__setitem__(key, value)\n",
    "\n",
    "\n",
    "\n",
    "with open(\"C:\\\\Users\\\\Gavin Stone\\\\Downloads\\\\employee_data.json\",\"r\") as f:\n",
    "          jsondata=json.load(f)\n",
    "          print(jsondata)\n",
    "f.close()\n",
    "\n",
    "empDict=EmployeeD()\n",
    "\n",
    "for index, emp in enumerate(jsondata):\n",
    "    empDict[index] = emp\n",
    "\n",
    "total_salary=0\n",
    "\n",
    "for emp in empDict:\n",
    "     total_salary+=empDict[emp]\n",
    "\n",
    "print(total_salary)\n",
    "\n",
    "        "
   ]
  },
  {
   "cell_type": "markdown",
   "id": "c981f5b4",
   "metadata": {},
   "source": [
    "# Question 5"
   ]
  },
  {
   "cell_type": "code",
   "execution_count": 62,
   "id": "c8da4c2e",
   "metadata": {},
   "outputs": [
    {
     "name": "stdout",
     "output_type": "stream",
     "text": [
      "Highest Transactions:\n",
      "Residential: $884790.00\n",
      "Condo: $360000.00\n",
      "Multi-Family: $416767.00\n",
      "\n",
      "Lowest Transactions:\n",
      "Residential: $1551.00\n",
      "Condo: $40000.00\n",
      "Multi-Family: $100000.00\n"
     ]
    }
   ],
   "source": [
    "import csv \n",
    "import math\n",
    "import numpy as np\n",
    "# Highest and Lowest transactions of 'price' \n",
    "# for the three categories of real estate in 'type'\n",
    "# categories are 'Residential', 'Condo', 'Multi-Family'\n",
    "\n",
    "filename = 'Sacramentorealestatetransactions.csv'\n",
    "with open(filename, 'r') as csvfile:\n",
    "    datareader = csv.reader(csvfile)\n",
    "    line_count = 0\n",
    "    \n",
    "    \n",
    "    resValue_max = -math.inf\n",
    "    resValue_min = math.inf\n",
    "    resId_max = 0\n",
    "    resId_min = 0\n",
    "    resCity_max = ''\n",
    "    resCity_min = ''\n",
    "    \n",
    "    conValue_max = -math.inf\n",
    "    conValue_min = math.inf\n",
    "    conId_max = 0\n",
    "    conId_min = 0\n",
    "    \n",
    "    mulValue_max = -math.inf\n",
    "    mulValue_min = math.inf\n",
    "    mulId_max = 0\n",
    "    mulId_min = 0\n",
    "    \n",
    "    for row in datareader:\n",
    "        if line_count == 0:\n",
    "            line_count+= 1\n",
    "        else: \n",
    "            line_count += 1\n",
    "            if row[7] == 'Residential':\n",
    "                if float(row[9]) > resValue_max:\n",
    "                    resId_max, resValue_max,resCity_max = row[0], float(row[9]), row[1]\n",
    "                if float(row[9]) < resValue_min:\n",
    "                    resId_min, resValue_min, resCity_min = row[0], float(row[9]), row[1]\n",
    "            if row[7] == 'Condo':\n",
    "                if float(row[9]) > conValue_max:\n",
    "                    conId_max, conValue_max = row[0], float(row[9])\n",
    "                if float(row[9]) < conValue_min:\n",
    "                    conId_min, conValue_min = row[0], float(row[9])\n",
    "            if row[7] == 'Multi-Family':\n",
    "                if float(row[9]) > mulValue_max:\n",
    "                    mulId_max, mulValue_max = row[0], float(row[9])\n",
    "                if float(row[9]) < mulValue_min:\n",
    "                    mulId_min, mulValue_min = row[0], float(row[9])\n",
    "                    \n",
    "    \n",
    "    \n",
    "    print(f'Highest Transactions:\\nResidential: ${resValue_max:.2f}\\nCondo: ${conValue_max:.2f}\\nMulti-Family: ${mulValue_max:.2f}\\n')\n",
    "    print(f'Lowest Transactions:\\nResidential: ${resValue_min:.2f}\\nCondo: ${conValue_min:.2f}\\nMulti-Family: ${mulValue_min:.2f}')\n",
    "    "
   ]
  },
  {
   "cell_type": "code",
   "execution_count": null,
   "id": "55a8499d",
   "metadata": {},
   "outputs": [],
   "source": []
  }
 ],
 "metadata": {
  "kernelspec": {
   "display_name": "Python 3 (ipykernel)",
   "language": "python",
   "name": "python3"
  },
  "language_info": {
   "codemirror_mode": {
    "name": "ipython",
    "version": 3
   },
   "file_extension": ".py",
   "mimetype": "text/x-python",
   "name": "python",
   "nbconvert_exporter": "python",
   "pygments_lexer": "ipython3",
   "version": "3.11.5"
  }
 },
 "nbformat": 4,
 "nbformat_minor": 5
}
