{
 "cells": [
  {
   "cell_type": "markdown",
   "id": "b2d58450",
   "metadata": {},
   "source": [
    "Using our class example unit2_07 Employee class, create five different employees who earn different salary and are different age. Then use List comprehension to find the top three salary employees and display all of their information.\n",
    "\n",
    "Create a Company class that holds instances of employees. Then assign five employee instances to an instance of the Company class. Next, add a work() method to both the Company and Employee classes so that when you call the method on the Company class, each Employee instance assigned to the Employee class will work(). Test the Company’s work(). \n",
    "\n",
    "Create ten different employees from a file: read employee data from a file(.txt or .json), then use generator to create a list of ten employees, sort the employee list by their name, use generator to raise every employee’s salary by 5%, then use generator to create a dictionary of the employees where the keys of the dictionary items are from range(10) and print them out. Furthermore, use itertools’s groupby() method to group employees by age group(younger than 20, 21-30, 31-50, 51-65, older than 65) \n",
    "\n",
    "Create a EmployeeD class which is a subclass of UserDict and overrides __getitem__ and __setitem__ methods. Then read from your provided file to create a sequence of EmployeeD instances using generator function and print the total salaries. \n",
    "\n",
    "Using what we have learned in Unit2 to analyze provided real estate transaction .csv file, you can use SP500 example as reference. Please find the highest and lowest transactions for each category of real estate: condo, residential and multi-family. Please note you are not allowed to use Pandas for this problem."
   ]
  },
  {
   "cell_type": "markdown",
   "id": "114cd321",
   "metadata": {},
   "source": [
    "unit 2_07 employee class \n",
    "\n",
    "class Employee: #same as Employee(object)\n",
    "   'Common base class for all employees'\n",
    "   empCount = 0 #class attribute\n",
    "\n",
    "   #name, salary and _age are instance attributes\n",
    "   def __init__(self, name, salary, age): #initializer must have at least argument beside self\n",
    "      self.name = name\n",
    "      self.salary = salary\n",
    "      self.__age = age\n",
    "      Employee.empCount += 1\n",
    "   \n",
    "   def displayCount(self):\n",
    "       print(\"Total Employee: {0}\".format(Employee.empCount))\n",
    "\n",
    "   def displayEmployee(self):\n",
    "       print(\"Name : {0}, Salary: {1}, Age: {2}\".format(self.name,self.salary, self.__age))\n",
    "       "
   ]
  },
  {
   "cell_type": "markdown",
   "id": "4a57cdfc",
   "metadata": {},
   "source": [
    "### Using our class example unit2_07 Employee class, create five different employees who earn different salary and are different age. Then use List comprehension to find the top three salary employees and display all of their information"
   ]
  },
  {
   "cell_type": "code",
   "execution_count": 20,
   "id": "a0ac49f9",
   "metadata": {},
   "outputs": [
    {
     "name": "stdout",
     "output_type": "stream",
     "text": [
      "Name : John, Salary: 5000, Age: 50\n",
      "Name : Paul, Salary: 4000, Age: 52\n",
      "Name : George, Salary: 3000, Age: 53\n"
     ]
    }
   ],
   "source": [
    "class Employee: #same as Employee(object)\n",
    "   'Common base class for all employees'\n",
    "   empCount = 0 #class attribute\n",
    "\n",
    "   #name, salary and _age are instance attributes\n",
    "   def __init__(self, name, salary, age): #initializer must have at least argument beside self\n",
    "      self.name = name\n",
    "      self.salary = salary\n",
    "      self.__age = age\n",
    "      Employee.empCount += 1\n",
    "   \n",
    "   def displayCount(self):\n",
    "       print(\"Total Employee: {0}\".format(Employee.empCount))\n",
    "\n",
    "   def displayEmployee(self):\n",
    "       print(\"Name : {0}, Salary: {1}, Age: {2}\".format(self.name,self.salary, self.__age))\n",
    "\n",
    "# create the employees\n",
    "employees = [\n",
    "Employee(\"John\", 5000, 50),\n",
    "Employee(\"Paul\", 4000, 52),\n",
    "Employee(\"George\", 3000, 53),\n",
    "Employee(\"Ringo\", 2000, 54),\n",
    "Employee(\"Billy\", 1000, 55)\n",
    "]\n",
    "# chooses list employees, assigns salary to argument x, sorts in descending order, and slices the last three values \n",
    "maxSalary = sorted(employees, key=lambda x : x.salary, reverse=True)[:3] \n",
    "\n",
    "# prints the information of the employees with the three greatest salaries\n",
    "for employee in maxSalary: \n",
    "    employee.displayEmployee()"
   ]
  },
  {
   "cell_type": "code",
   "execution_count": null,
   "id": "ccc73204",
   "metadata": {},
   "outputs": [],
   "source": []
  }
 ],
 "metadata": {
  "kernelspec": {
   "display_name": "Python 3 (ipykernel)",
   "language": "python",
   "name": "python3"
  },
  "language_info": {
   "codemirror_mode": {
    "name": "ipython",
    "version": 3
   },
   "file_extension": ".py",
   "mimetype": "text/x-python",
   "name": "python",
   "nbconvert_exporter": "python",
   "pygments_lexer": "ipython3",
   "version": "3.11.5"
  }
 },
 "nbformat": 4,
 "nbformat_minor": 5
}
