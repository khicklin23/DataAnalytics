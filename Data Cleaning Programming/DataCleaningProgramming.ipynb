{
 "cells": [
  {
   "cell_type": "markdown",
   "id": "a8adf216",
   "metadata": {},
   "source": [
    "# Group 1:\n",
    "# Gavin Stone, Isaac Adams, Kaden Hicklin, Owen Miller, Samuel Shevlin, Sullivan Gleason\n"
   ]
  },
  {
   "cell_type": "markdown",
   "id": "02c1c914",
   "metadata": {},
   "source": [
    "BL-Flicker-Images-Book.csv file questions: \n",
    "1. For the Title column, only keep the title part, remove all of the other parts. If the title is inside a bracket, remove the bracket which encloses the title. If there are multiple …, only keep the words before the first one. If there are multiple periods (.), only keep words before the first one. The following shows the sample results after the cleaning for title column:\n",
    "2. For the Author and Contributors columns, only keep the first author, remove all of the other parts. If the author or the contributor has other auxiliary information, remove them. title is inside a bracket, remove the bracket which encloses the title. If there are multiple …, only keep the words before the first one. If there are multiple periods (.), only keep words before the first one. For all of the names, they should only have the first letter of the first, middle and last names be capital letter, all of the remaining letters should be small case. The following shows the sample results after the cleaning for title column:\n",
    "3. After cleaning the above columns, save the cleaned data back into a new .csv file."
   ]
  },
  {
   "cell_type": "code",
   "execution_count": null,
   "id": "61436933",
   "metadata": {},
   "outputs": [],
   "source": []
  },
  {
   "cell_type": "markdown",
   "id": "c94cad49",
   "metadata": {},
   "source": [
    "olympics.csv file questions: \n",
    "1. Drop all of the countries which don’t have gold medals, and save the cleaned one back into a new .csv file.\n",
    "2. Output the top five gold medal countries.\n",
    "3. Output the countries that have all three kinds of medals for both summer and winter games.\n",
    "4. You may use previous unit learned concepts on multi-level indexing, pivoting, stacking to rearrange the original .csv file to convert summer and winter as secondary level index within the country index, and then generate a new .csv file which will have country as the primary index, then summer and winter as secondary index, and columns of gold, silver and bronze medals."
   ]
  },
  {
   "cell_type": "code",
   "execution_count": null,
   "id": "7361e21b",
   "metadata": {},
   "outputs": [],
   "source": []
  }
 ],
 "metadata": {
  "kernelspec": {
   "display_name": "Python 3 (ipykernel)",
   "language": "python",
   "name": "python3"
  },
  "language_info": {
   "codemirror_mode": {
    "name": "ipython",
    "version": 3
   },
   "file_extension": ".py",
   "mimetype": "text/x-python",
   "name": "python",
   "nbconvert_exporter": "python",
   "pygments_lexer": "ipython3",
   "version": "3.11.5"
  }
 },
 "nbformat": 4,
 "nbformat_minor": 5
}
