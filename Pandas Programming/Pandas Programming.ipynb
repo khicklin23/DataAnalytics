{
 "cells": [
  {
   "cell_type": "markdown",
   "id": "1b2a02e7",
   "metadata": {},
   "source": [
    "### Using what we have learned in Unit5 of Pandas to analyze SP500.csv file with Series and DataFrame operations. Please find answers to the following questions:\n",
    "\n",
    "1. Generate a brief statistic summary for corresponding data\n",
    "\n",
    "2. Sort daily gain/loss for January of 2018 and store the result back to a .csv file\n",
    "\n",
    "3. Find all of the daily gains reach 20% and above and display them\n",
    "\n",
    "4. the highest daily gain and its date, the highest daily loss and its date\n",
    "\n",
    "5. the most daily transaction volume and its date\n",
    "\n",
    "6. a monthly report for year 2017-2018, which has monthly average open price, close price,\n",
    "transaction volume and gain/loss, and a query to find all of the months which have certain range\n",
    "of open prices\n",
    "\n",
    "7. a yearly report which has annual average open price, close price, transaction volume and\n",
    "gain/loss from 1950 to 2018, and the most profitable year\n",
    "\n",
    "8. a every other five year report which has every five year average open price, close price,\n",
    "transaction volume and gain/loss from 1950 to 2018, and the most profitable five year"
   ]
  },
  {
   "cell_type": "code",
   "execution_count": null,
   "id": "a45e34af",
   "metadata": {},
   "outputs": [],
   "source": [
    "# imports \n"
   ]
  },
  {
   "cell_type": "code",
   "execution_count": null,
   "id": "96a670ac",
   "metadata": {},
   "outputs": [],
   "source": [
    "#1. \n"
   ]
  },
  {
   "cell_type": "code",
   "execution_count": null,
   "id": "ea04ebc1",
   "metadata": {},
   "outputs": [],
   "source": [
    "#2.\n"
   ]
  },
  {
   "cell_type": "code",
   "execution_count": null,
   "id": "ecb4e914",
   "metadata": {},
   "outputs": [],
   "source": [
    "#3.\n"
   ]
  },
  {
   "cell_type": "code",
   "execution_count": null,
   "id": "523d7f2f",
   "metadata": {},
   "outputs": [],
   "source": [
    "#4. \n"
   ]
  },
  {
   "cell_type": "code",
   "execution_count": null,
   "id": "e6542cb7",
   "metadata": {},
   "outputs": [],
   "source": [
    "#5.\n"
   ]
  },
  {
   "cell_type": "code",
   "execution_count": null,
   "id": "a480bf91",
   "metadata": {},
   "outputs": [],
   "source": [
    "#6.\n"
   ]
  },
  {
   "cell_type": "code",
   "execution_count": null,
   "id": "b3c7f646",
   "metadata": {},
   "outputs": [],
   "source": [
    "#7.\n"
   ]
  },
  {
   "cell_type": "code",
   "execution_count": null,
   "id": "b30eac11",
   "metadata": {},
   "outputs": [],
   "source": [
    "#8. \n"
   ]
  },
  {
   "cell_type": "markdown",
   "id": "1e2f845f",
   "metadata": {},
   "source": [
    "### Using what we have learned in Unit5 of Pandas to analyze Sacramentorealestatetransactions.csv file with Series and DataFrame operations. Please find answers to the following questions:\n",
    "\n",
    "1. Regroup the data first by city name, then by type\n",
    "\n",
    "2. For each city, each type, find the highest, median and lowest transactions\n",
    "\n",
    "3. For each zipcode and each type, find average transactions"
   ]
  },
  {
   "cell_type": "code",
   "execution_count": null,
   "id": "3303ca3e",
   "metadata": {},
   "outputs": [],
   "source": [
    "#1.\n"
   ]
  },
  {
   "cell_type": "code",
   "execution_count": null,
   "id": "e83042d2",
   "metadata": {},
   "outputs": [],
   "source": [
    "#2.\n"
   ]
  },
  {
   "cell_type": "code",
   "execution_count": null,
   "id": "f4bde1ed",
   "metadata": {},
   "outputs": [],
   "source": [
    "#3. \n"
   ]
  }
 ],
 "metadata": {
  "kernelspec": {
   "display_name": "Python 3 (ipykernel)",
   "language": "python",
   "name": "python3"
  },
  "language_info": {
   "codemirror_mode": {
    "name": "ipython",
    "version": 3
   },
   "file_extension": ".py",
   "mimetype": "text/x-python",
   "name": "python",
   "nbconvert_exporter": "python",
   "pygments_lexer": "ipython3",
   "version": "3.11.5"
  }
 },
 "nbformat": 4,
 "nbformat_minor": 5
}
