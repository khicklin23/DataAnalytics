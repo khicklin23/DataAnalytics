{
 "cells": [
  {
   "cell_type": "markdown",
   "id": "5dd52adb",
   "metadata": {},
   "source": [
    "Using what we have learned in Numpy Module to analyze SP500.csv file with Numpy array\n",
    "operations. Please find answers to the following questions:\n",
    "\n",
    "1. the highest daily gain and its date, the highest daily loss and its date,\n",
    "\n",
    "2. the most daily transaction volume and its date,\n",
    "\n",
    "3. a monthly report for year 2017-2018, which has monthly average open price, close price,\n",
    "   transaction volume and gain/loss, and a query to find all of the months which have certain range\n",
    "   of open prices\n",
    "  \n",
    "4. a yearly report which has annual average open price, close price, transaction volume and\n",
    "   gain/loss from 1950 to 2018, and the most profitable year,\n",
    "\n",
    "5. a every other five year report which has every five year average open price, close price,\n",
    "   transaction volume and gain/loss from 1950 to 2018, and the most profitable five year,"
   ]
  },
  {
   "cell_type": "markdown",
   "id": "221344f5",
   "metadata": {},
   "source": [
    "# Group 1:\n",
    "## Gavin Stone, Isaac Adams, Kaden Hicklin, Owen Miller, Samuel Shevlin, Sullivan Gleason"
   ]
  },
  {
   "cell_type": "markdown",
   "id": "aaca8dbc",
   "metadata": {},
   "source": [
    "# Question 1"
   ]
  },
  {
   "cell_type": "code",
   "execution_count": null,
   "id": "c201b2e4",
   "metadata": {},
   "outputs": [],
   "source": []
  },
  {
   "cell_type": "markdown",
   "id": "2ae85401",
   "metadata": {},
   "source": [
    "# Question 2"
   ]
  },
  {
   "cell_type": "code",
   "execution_count": null,
   "id": "e50de320",
   "metadata": {},
   "outputs": [],
   "source": []
  },
  {
   "cell_type": "markdown",
   "id": "a22f03b0",
   "metadata": {},
   "source": [
    "# Question 3"
   ]
  },
  {
   "cell_type": "code",
   "execution_count": null,
   "id": "cb90c954",
   "metadata": {},
   "outputs": [],
   "source": []
  },
  {
   "cell_type": "markdown",
   "id": "a7a80b7b",
   "metadata": {},
   "source": [
    "# Question 4"
   ]
  },
  {
   "cell_type": "code",
   "execution_count": null,
   "id": "bf7ca049",
   "metadata": {},
   "outputs": [],
   "source": []
  },
  {
   "cell_type": "markdown",
   "id": "2b1ddb4f",
   "metadata": {},
   "source": [
    "# Question 5"
   ]
  },
  {
   "cell_type": "code",
   "execution_count": null,
   "id": "51682429",
   "metadata": {},
   "outputs": [],
   "source": []
  }
 ],
 "metadata": {
  "kernelspec": {
   "display_name": "Python 3 (ipykernel)",
   "language": "python",
   "name": "python3"
  },
  "language_info": {
   "codemirror_mode": {
    "name": "ipython",
    "version": 3
   },
   "file_extension": ".py",
   "mimetype": "text/x-python",
   "name": "python",
   "nbconvert_exporter": "python",
   "pygments_lexer": "ipython3",
   "version": "3.11.5"
  }
 },
 "nbformat": 4,
 "nbformat_minor": 5
}
