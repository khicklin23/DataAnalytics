{
 "cells": [
  {
   "cell_type": "code",
   "execution_count": 119,
   "metadata": {
    "colab": {
     "base_uri": "https://localhost:8080/"
    },
    "id": "Jph_RuYumFjE",
    "outputId": "0956ea36-e9b4-4b8b-c3e5-76a064c6c501"
   },
   "outputs": [
    {
     "data": {
      "text/plain": [
       "array([('1950-01-03',   16.66    ,   16.66    ,   16.66    ,   16.66    ,   16.66    , 1.26000e+06),\n",
       "       ('1950-01-04',   16.85    ,   16.85    ,   16.85    ,   16.85    ,   16.85    , 1.89000e+06),\n",
       "       ('1950-01-05',   16.93    ,   16.93    ,   16.93    ,   16.93    ,   16.93    , 2.55000e+06),\n",
       "       ...,\n",
       "       ('2018-04-25', 2634.919922, 2645.300049, 2612.669922, 2639.399902, 2639.399902, 3.49944e+09),\n",
       "       ('2018-04-26', 2651.649902, 2676.47998 , 2647.159912, 2666.939941, 2666.939941, 3.66572e+09),\n",
       "       ('2018-04-27', 2675.469971, 2677.350098, 2659.01001 , 2669.909912, 2669.909912, 3.21903e+09)],\n",
       "      dtype=[('Date', '<M8[D]'), ('Open', '<f8'), ('High', '<f8'), ('Low', '<f8'), ('Close', '<f8'), ('Adjusted_close', '<f8'), ('Volume', '<f8')])"
      ]
     },
     "execution_count": 119,
     "metadata": {},
     "output_type": "execute_result"
    }
   ],
   "source": [
    "import numpy as np\n",
    "from datetime import datetime\n",
    "\n",
    "file = '/content/gdrive/MyDrive/CS433/SP500 (2).csv'\n",
    "arr = np.genfromtxt(file, dtype={'names': (\"Date\", 'Open', 'High', 'Low', 'Close', 'Adjusted_close', 'Volume'),\n",
    "                                        'formats': ('datetime64[D]', np.float64, np.float64, np.float64, np.float64, np.float64, np.float64)},converters={0: lambda x: np.datetime64(x)},  delimiter=',', skip_header=True)\n",
    "arr\n",
    "\n"
   ]
  },
  {
   "cell_type": "markdown",
   "metadata": {
    "id": "b0VLIBTZvjcH"
   },
   "source": [
    "the highest daily gain and its date, the highest daily loss and its date"
   ]
  },
  {
   "cell_type": "code",
   "execution_count": 120,
   "metadata": {
    "colab": {
     "base_uri": "https://localhost:8080/"
    },
    "id": "9m8mnGm6vmU8",
    "outputId": "90c2a5d9-d8fc-42c8-82cb-b1b20e137e6d"
   },
   "outputs": [
    {
     "name": "stdout",
     "output_type": "stream",
     "text": [
      "Max:  2008-10-28 : $ 91.59002699999996\n",
      "Min:  2018-02-08 : $ -104.01000999999997\n"
     ]
    }
   ],
   "source": [
    "daily_gain=arr['Close']-arr['Open']\n",
    "max_gain=daily_gain.argmax(axis=0)\n",
    "min_gain=daily_gain.argmin(axis=0)\n",
    "print(\"Max: \", arr[max_gain]['Date'],\": $\" ,daily_gain[max_gain])\n",
    "print(\"Min: \", arr[min_gain]['Date'],\": $\" ,daily_gain[min_gain])"
   ]
  },
  {
   "cell_type": "markdown",
   "metadata": {
    "id": "3peThrfazVQN"
   },
   "source": [
    "the most daily transaction volume and its date"
   ]
  },
  {
   "cell_type": "code",
   "execution_count": 121,
   "metadata": {
    "colab": {
     "base_uri": "https://localhost:8080/"
    },
    "id": "FPOaGTvGzWKG",
    "outputId": "94104574-cd2f-45ac-aeac-3e70a7ad7264"
   },
   "outputs": [
    {
     "name": "stdout",
     "output_type": "stream",
     "text": [
      "Max Volume 2008-10-10 : $ 11456230000.0\n"
     ]
    }
   ],
   "source": [
    "Max_Volume=arr['Volume'].argmax()\n",
    "print(\"Max Volume\", arr[Max_Volume]['Date'], \": $\", arr[Max_Volume]['Volume'])"
   ]
  },
  {
   "cell_type": "markdown",
   "metadata": {
    "id": "3BwFqm5V0Rba"
   },
   "source": [
    "a monthly report for year 2017-2018, which has monthly average open price, close price,\n",
    "transaction volume and gain/loss, and a query to find all of the months which have certain range\n",
    "of open prices"
   ]
  },
  {
   "cell_type": "code",
   "execution_count": 166,
   "metadata": {
    "colab": {
     "base_uri": "https://localhost:8080/"
    },
    "id": "oKA4v9uZ0Tlr",
    "outputId": "1d6e7c23-2acf-4673-d5e0-7f326fe63a8f"
   },
   "outputs": [
    {
     "data": {
      "text/plain": [
       "[(1,\n",
       "  'Mean Open: ',\n",
       "  2273.5319704000003,\n",
       "  'Mean Close: ',\n",
       "  2275.1159789,\n",
       "  'Mean Volume: ',\n",
       "  3524159000.0,\n",
       "  'Mean Gain: ',\n",
       "  1.584008499999527),\n",
       " (2,\n",
       "  'Mean Open: ',\n",
       "  2325.585282105263,\n",
       "  'Mean Close: ',\n",
       "  2329.910541842105,\n",
       "  'Mean Volume: ',\n",
       "  3640127368.4210525,\n",
       "  'Mean Gain: ',\n",
       "  4.325259736841872),\n",
       " (3,\n",
       "  'Mean Open: ',\n",
       "  2366.8687054347824,\n",
       "  'Mean Close: ',\n",
       "  2366.8221701739135,\n",
       "  'Mean Volume: ',\n",
       "  3545555217.3913045,\n",
       "  'Mean Gain: ',\n",
       "  -0.04653526086894999),\n",
       " (4,\n",
       "  'Mean Open: ',\n",
       "  2360.150005052632,\n",
       "  'Mean Close: ',\n",
       "  2359.3094545789477,\n",
       "  'Mean Volume: ',\n",
       "  3435035263.1578946,\n",
       "  'Mean Gain: ',\n",
       "  -0.8405504736842886),\n",
       " (5,\n",
       "  'Mean Open: ',\n",
       "  2394.4700039090912,\n",
       "  'Mean Close: ',\n",
       "  2395.345880681818,\n",
       "  'Mean Volume: ',\n",
       "  3618507727.2727275,\n",
       "  'Mean Gain: ',\n",
       "  0.8758767727267696),\n",
       " (6,\n",
       "  'Mean Open: ',\n",
       "  2434.6836048181817,\n",
       "  'Mean Close: ',\n",
       "  2433.985451454546,\n",
       "  'Mean Volume: ',\n",
       "  3681931363.6363635,\n",
       "  'Mean Gain: ',\n",
       "  -0.6981533636358108),\n",
       " (7,\n",
       "  'Mean Open: ',\n",
       "  2453.0394897999995,\n",
       "  'Mean Close: ',\n",
       "  2454.1025025,\n",
       "  'Mean Volume: ',\n",
       "  3158470000.0,\n",
       "  'Mean Gain: ',\n",
       "  1.0630127000003995),\n",
       " (8,\n",
       "  'Mean Open: ',\n",
       "  2456.7499682608695,\n",
       "  'Mean Close: ',\n",
       "  2456.2230702173906,\n",
       "  'Mean Volume: ',\n",
       "  3070262173.9130435,\n",
       "  'Mean Gain: ',\n",
       "  -0.5268980434789228),\n",
       " (9,\n",
       "  'Mean Open: ',\n",
       "  2491.3324952499997,\n",
       "  'Mean Close: ',\n",
       "  2492.8410400000002,\n",
       "  'Mean Volume: ',\n",
       "  3316899000.0,\n",
       "  'Mean Gain: ',\n",
       "  1.5085447500005102),\n",
       " (10,\n",
       "  'Mean Open: ',\n",
       "  2555.807273136363,\n",
       "  'Mean Close: ',\n",
       "  2556.99727,\n",
       "  'Mean Volume: ',\n",
       "  3221435000.0,\n",
       "  'Mean Gain: ',\n",
       "  1.1899968636366793),\n",
       " (11,\n",
       "  'Mean Open: ',\n",
       "  2590.3061639523808,\n",
       "  'Mean Close: ',\n",
       "  2593.605736190476,\n",
       "  'Mean Volume: ',\n",
       "  3484440952.3809524,\n",
       "  'Mean Gain: ',\n",
       "  3.299572238095152),\n",
       " (12,\n",
       "  'Mean Open: ',\n",
       "  2666.06999515,\n",
       "  'Mean Close: ',\n",
       "  2664.3405273,\n",
       "  'Mean Volume: ',\n",
       "  3262559500.0,\n",
       "  'Mean Gain: ',\n",
       "  -1.7294678500002192)]"
      ]
     },
     "execution_count": 166,
     "metadata": {},
     "output_type": "execute_result"
    }
   ],
   "source": [
    "def compute_avges(arr, i):\n",
    "  mean_open=np.mean(arr['Open'])\n",
    "  mean_close=np.mean(arr['Close'])\n",
    "  mean_volume=np.mean(arr['Volume'])\n",
    "  mean_gain=mean_close-mean_open\n",
    "  return i, \"Mean Open: \", mean_open, \"Mean Close: \", mean_close, \"Mean Volume: \", mean_volume, \"Mean Gain: \", mean_gain\n",
    "\n",
    "temp1=arr[arr['Date']<np.datetime64('2018')]\n",
    "arr_2017=temp1[temp1['Date']>=np.datetime64('2017')]\n",
    "arr_2017\n",
    "\n",
    "Month_list=[]\n",
    "for i in range(1,13):\n",
    "  if(i==12):\n",
    "    bot_date='2017-12-01'\n",
    "    top_date='2018-01-01'\n",
    "  else:\n",
    "    if(i<10):\n",
    "      bot_date='2017-0'+str(i)+'-01'\n",
    "      top_date='2017-0'+str(i+1)+'-01'\n",
    "    else:\n",
    "      bot_date='2017-'+str(i)+'-01'\n",
    "      top_date='2017-'+str(i+1)+'-01'\n",
    "  if(i==9):\n",
    "    top_date='2017-'+str(i+1)+'-01'\n",
    "\n",
    "  temp1=arr[arr['Date']<np.datetime64(top_date)]\n",
    "  temp2=temp1[temp1['Date']>=np.datetime64(bot_date)]\n",
    "  Month_list.append(compute_avges(temp2, i))\n",
    "\n",
    "Month_list[:]"
   ]
  },
  {
   "cell_type": "code",
   "execution_count": 168,
   "metadata": {
    "colab": {
     "base_uri": "https://localhost:8080/"
    },
    "id": "iw3Xn4q2ej1L",
    "outputId": "7a1b9094-d5ef-40ab-c137-58fe590b4643"
   },
   "outputs": [
    {
     "name": "stdout",
     "output_type": "stream",
     "text": [
      "(10, 'Mean Open: ', 2555.807273136363, 'Mean Close: ', 2556.99727, 'Mean Volume: ', 3221435000.0, 'Mean Gain: ', 1.1899968636366793)\n",
      "(11, 'Mean Open: ', 2590.3061639523808, 'Mean Close: ', 2593.605736190476, 'Mean Volume: ', 3484440952.3809524, 'Mean Gain: ', 3.299572238095152)\n"
     ]
    }
   ],
   "source": [
    "def findMonthsByOpen(i, j, list):\n",
    "  for tuple in list:\n",
    "    if(tuple[2]>i and tuple[2]<j):\n",
    "      print(tuple)\n",
    "\n",
    "findMonthsByOpen(2500, 2600, Month_list)"
   ]
  }
 ],
 "metadata": {
  "colab": {
   "provenance": []
  },
  "kernelspec": {
   "display_name": "Python 3 (ipykernel)",
   "language": "python",
   "name": "python3"
  },
  "language_info": {
   "codemirror_mode": {
    "name": "ipython",
    "version": 3
   },
   "file_extension": ".py",
   "mimetype": "text/x-python",
   "name": "python",
   "nbconvert_exporter": "python",
   "pygments_lexer": "ipython3",
   "version": "3.11.5"
  }
 },
 "nbformat": 4,
 "nbformat_minor": 1
}
